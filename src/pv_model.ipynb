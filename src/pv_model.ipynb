{
 "cells": [
  {
   "cell_type": "code",
   "execution_count": 3,
   "metadata": {},
   "outputs": [
    {
     "ename": "AttributeError",
     "evalue": "module 'numpy' has no attribute 'int'.\n`np.int` was a deprecated alias for the builtin `int`. To avoid this error in existing code, use `int` by itself. Doing this will not modify any behavior and is safe. When replacing `np.int`, you may wish to use e.g. `np.int64` or `np.int32` to specify the precision. If you wish to review your current use, check the release note link for additional information.\nThe aliases was originally deprecated in NumPy 1.20; for more details and guidance see the original release note at:\n    https://numpy.org/devdocs/release/1.20.0-notes.html#deprecations",
     "output_type": "error",
     "traceback": [
      "\u001b[1;31m---------------------------------------------------------------------------\u001b[0m",
      "\u001b[1;31mAttributeError\u001b[0m                            Traceback (most recent call last)",
      "Cell \u001b[1;32mIn[3], line 20\u001b[0m\n\u001b[0;32m     17\u001b[0m times \u001b[38;5;241m=\u001b[39m pd\u001b[38;5;241m.\u001b[39mdate_range(start\u001b[38;5;241m=\u001b[39m\u001b[38;5;124mf\u001b[39m\u001b[38;5;124m'\u001b[39m\u001b[38;5;132;01m{\u001b[39;00mdate\u001b[38;5;132;01m}\u001b[39;00m\u001b[38;5;124m 00:00\u001b[39m\u001b[38;5;124m'\u001b[39m, end\u001b[38;5;241m=\u001b[39m\u001b[38;5;124mf\u001b[39m\u001b[38;5;124m'\u001b[39m\u001b[38;5;132;01m{\u001b[39;00mdate\u001b[38;5;132;01m}\u001b[39;00m\u001b[38;5;124m 23:59\u001b[39m\u001b[38;5;124m'\u001b[39m, freq\u001b[38;5;241m=\u001b[39m\u001b[38;5;124m'\u001b[39m\u001b[38;5;124m1min\u001b[39m\u001b[38;5;124m'\u001b[39m, tz\u001b[38;5;241m=\u001b[39mtz)\n\u001b[0;32m     19\u001b[0m \u001b[38;5;66;03m# Get clear sky data for the location\u001b[39;00m\n\u001b[1;32m---> 20\u001b[0m clear_sky \u001b[38;5;241m=\u001b[39m \u001b[43mlocation\u001b[49m\u001b[38;5;241;43m.\u001b[39;49m\u001b[43mget_clearsky\u001b[49m\u001b[43m(\u001b[49m\u001b[43mtimes\u001b[49m\u001b[43m,\u001b[49m\u001b[43m \u001b[49m\u001b[43mmodel\u001b[49m\u001b[38;5;241;43m=\u001b[39;49m\u001b[38;5;124;43m'\u001b[39;49m\u001b[38;5;124;43msimplified_solis\u001b[39;49m\u001b[38;5;124;43m'\u001b[39;49m\u001b[43m)\u001b[49m\n\u001b[0;32m     22\u001b[0m \u001b[38;5;66;03m# Define module and inverter parameters (assuming identical for each module)\u001b[39;00m\n\u001b[0;32m     23\u001b[0m module_parameters \u001b[38;5;241m=\u001b[39m {\n\u001b[0;32m     24\u001b[0m     \u001b[38;5;124m'\u001b[39m\u001b[38;5;124mpdc0\u001b[39m\u001b[38;5;124m'\u001b[39m: \u001b[38;5;241m300\u001b[39m,  \u001b[38;5;66;03m# Power at standard test conditions (W)\u001b[39;00m\n\u001b[0;32m     25\u001b[0m     \u001b[38;5;124m'\u001b[39m\u001b[38;5;124mgamma_pdc\u001b[39m\u001b[38;5;124m'\u001b[39m: \u001b[38;5;241m-\u001b[39m\u001b[38;5;241m0.004\u001b[39m  \u001b[38;5;66;03m# Temperature coefficient of power (%/°C)\u001b[39;00m\n\u001b[0;32m     26\u001b[0m }\n",
      "File \u001b[1;32mc:\\Users\\lelem\\anaconda3\\envs\\design-optimization\\lib\\site-packages\\pvlib\\location.py:225\u001b[0m, in \u001b[0;36mLocation.get_clearsky\u001b[1;34m(self, times, model, solar_position, dni_extra, **kwargs)\u001b[0m\n\u001b[0;32m    223\u001b[0m     cs \u001b[38;5;241m=\u001b[39m clearsky\u001b[38;5;241m.\u001b[39mhaurwitz(apparent_zenith)\n\u001b[0;32m    224\u001b[0m \u001b[38;5;28;01melif\u001b[39;00m model \u001b[38;5;241m==\u001b[39m \u001b[38;5;124m'\u001b[39m\u001b[38;5;124msimplified_solis\u001b[39m\u001b[38;5;124m'\u001b[39m:\n\u001b[1;32m--> 225\u001b[0m     cs \u001b[38;5;241m=\u001b[39m clearsky\u001b[38;5;241m.\u001b[39msimplified_solis(\n\u001b[0;32m    226\u001b[0m         apparent_elevation, pressure\u001b[38;5;241m=\u001b[39mpressure, dni_extra\u001b[38;5;241m=\u001b[39mdni_extra,\n\u001b[0;32m    227\u001b[0m         \u001b[38;5;241m*\u001b[39m\u001b[38;5;241m*\u001b[39mkwargs)\n\u001b[0;32m    228\u001b[0m \u001b[38;5;28;01melse\u001b[39;00m:\n\u001b[0;32m    229\u001b[0m     \u001b[38;5;28;01mraise\u001b[39;00m \u001b[38;5;167;01mValueError\u001b[39;00m(\u001b[38;5;124m'\u001b[39m\u001b[38;5;132;01m{}\u001b[39;00m\u001b[38;5;124m is not a valid clear sky model. Must be \u001b[39m\u001b[38;5;124m'\u001b[39m\n\u001b[0;32m    230\u001b[0m                      \u001b[38;5;124m'\u001b[39m\u001b[38;5;124mone of ineichen, simplified_solis, haurwitz\u001b[39m\u001b[38;5;124m'\u001b[39m\n\u001b[0;32m    231\u001b[0m                      \u001b[38;5;241m.\u001b[39mformat(model))\n",
      "File \u001b[1;32mc:\\Users\\lelem\\anaconda3\\envs\\design-optimization\\lib\\site-packages\\pvlib\\clearsky.py:455\u001b[0m, in \u001b[0;36msimplified_solis\u001b[1;34m(apparent_elevation, aod700, precipitable_water, pressure, dni_extra)\u001b[0m\n\u001b[0;32m    452\u001b[0m taug \u001b[38;5;241m=\u001b[39m _calc_taug(w, aod700, p)\n\u001b[0;32m    453\u001b[0m g \u001b[38;5;241m=\u001b[39m _calc_g(w, aod700)\n\u001b[1;32m--> 455\u001b[0m taud \u001b[38;5;241m=\u001b[39m \u001b[43m_calc_taud\u001b[49m\u001b[43m(\u001b[49m\u001b[43mw\u001b[49m\u001b[43m,\u001b[49m\u001b[43m \u001b[49m\u001b[43maod700\u001b[49m\u001b[43m,\u001b[49m\u001b[43m \u001b[49m\u001b[43mp\u001b[49m\u001b[43m)\u001b[49m\n\u001b[0;32m    456\u001b[0m d \u001b[38;5;241m=\u001b[39m _calc_d(aod700, p)\n\u001b[0;32m    458\u001b[0m \u001b[38;5;66;03m# this prevents the creation of nans at night instead of 0s\u001b[39;00m\n\u001b[0;32m    459\u001b[0m \u001b[38;5;66;03m# it's also friendly to scalar and series inputs\u001b[39;00m\n",
      "File \u001b[1;32mc:\\Users\\lelem\\anaconda3\\envs\\design-optimization\\lib\\site-packages\\pvlib\\clearsky.py:548\u001b[0m, in \u001b[0;36m_calc_taud\u001b[1;34m(w, aod700, p)\u001b[0m\n\u001b[0;32m    546\u001b[0m aod700_lt_0p05 \u001b[38;5;241m=\u001b[39m np\u001b[38;5;241m.\u001b[39mfull_like(aod700, \u001b[38;5;28;01mFalse\u001b[39;00m, dtype\u001b[38;5;241m=\u001b[39m\u001b[38;5;124m'\u001b[39m\u001b[38;5;124mbool\u001b[39m\u001b[38;5;124m'\u001b[39m)\n\u001b[0;32m    547\u001b[0m np\u001b[38;5;241m.\u001b[39mless(aod700, \u001b[38;5;241m0.05\u001b[39m, where\u001b[38;5;241m=\u001b[39m\u001b[38;5;241m~\u001b[39mnp\u001b[38;5;241m.\u001b[39misnan(aod700), out\u001b[38;5;241m=\u001b[39maod700_lt_0p05)\n\u001b[1;32m--> 548\u001b[0m aod700_mask \u001b[38;5;241m=\u001b[39m np\u001b[38;5;241m.\u001b[39marray([aod700_lt_0p05, \u001b[38;5;241m~\u001b[39maod700_lt_0p05], dtype\u001b[38;5;241m=\u001b[39m\u001b[43mnp\u001b[49m\u001b[38;5;241;43m.\u001b[39;49m\u001b[43mint\u001b[49m)\n\u001b[0;32m    550\u001b[0m \u001b[38;5;66;03m# create tuples of coefficients for\u001b[39;00m\n\u001b[0;32m    551\u001b[0m \u001b[38;5;66;03m# aod700 < 0.05, aod700 >= 0.05\u001b[39;00m\n\u001b[0;32m    552\u001b[0m td4 \u001b[38;5;241m=\u001b[39m \u001b[38;5;241m86\u001b[39m\u001b[38;5;241m*\u001b[39mw \u001b[38;5;241m-\u001b[39m \u001b[38;5;241m13800\u001b[39m, \u001b[38;5;241m-\u001b[39m\u001b[38;5;241m0.21\u001b[39m\u001b[38;5;241m*\u001b[39mw \u001b[38;5;241m+\u001b[39m \u001b[38;5;241m11.6\u001b[39m\n",
      "File \u001b[1;32mc:\\Users\\lelem\\anaconda3\\envs\\design-optimization\\lib\\site-packages\\numpy\\__init__.py:397\u001b[0m, in \u001b[0;36m__getattr__\u001b[1;34m(attr)\u001b[0m\n\u001b[0;32m    392\u001b[0m     warnings\u001b[38;5;241m.\u001b[39mwarn(\n\u001b[0;32m    393\u001b[0m         \u001b[38;5;124mf\u001b[39m\u001b[38;5;124m\"\u001b[39m\u001b[38;5;124mIn the future `np.\u001b[39m\u001b[38;5;132;01m{\u001b[39;00mattr\u001b[38;5;132;01m}\u001b[39;00m\u001b[38;5;124m` will be defined as the \u001b[39m\u001b[38;5;124m\"\u001b[39m\n\u001b[0;32m    394\u001b[0m         \u001b[38;5;124m\"\u001b[39m\u001b[38;5;124mcorresponding NumPy scalar.\u001b[39m\u001b[38;5;124m\"\u001b[39m, \u001b[38;5;167;01mFutureWarning\u001b[39;00m, stacklevel\u001b[38;5;241m=\u001b[39m\u001b[38;5;241m2\u001b[39m)\n\u001b[0;32m    396\u001b[0m \u001b[38;5;28;01mif\u001b[39;00m attr \u001b[38;5;129;01min\u001b[39;00m __former_attrs__:\n\u001b[1;32m--> 397\u001b[0m     \u001b[38;5;28;01mraise\u001b[39;00m \u001b[38;5;167;01mAttributeError\u001b[39;00m(__former_attrs__[attr], name\u001b[38;5;241m=\u001b[39m\u001b[38;5;28;01mNone\u001b[39;00m)\n\u001b[0;32m    399\u001b[0m \u001b[38;5;28;01mif\u001b[39;00m attr \u001b[38;5;129;01min\u001b[39;00m __expired_attributes__:\n\u001b[0;32m    400\u001b[0m     \u001b[38;5;28;01mraise\u001b[39;00m \u001b[38;5;167;01mAttributeError\u001b[39;00m(\n\u001b[0;32m    401\u001b[0m         \u001b[38;5;124mf\u001b[39m\u001b[38;5;124m\"\u001b[39m\u001b[38;5;124m`np.\u001b[39m\u001b[38;5;132;01m{\u001b[39;00mattr\u001b[38;5;132;01m}\u001b[39;00m\u001b[38;5;124m` was removed in the NumPy 2.0 release. \u001b[39m\u001b[38;5;124m\"\u001b[39m\n\u001b[0;32m    402\u001b[0m         \u001b[38;5;124mf\u001b[39m\u001b[38;5;124m\"\u001b[39m\u001b[38;5;132;01m{\u001b[39;00m__expired_attributes__[attr]\u001b[38;5;132;01m}\u001b[39;00m\u001b[38;5;124m\"\u001b[39m,\n\u001b[0;32m    403\u001b[0m         name\u001b[38;5;241m=\u001b[39m\u001b[38;5;28;01mNone\u001b[39;00m\n\u001b[0;32m    404\u001b[0m     )\n",
      "\u001b[1;31mAttributeError\u001b[0m: module 'numpy' has no attribute 'int'.\n`np.int` was a deprecated alias for the builtin `int`. To avoid this error in existing code, use `int` by itself. Doing this will not modify any behavior and is safe. When replacing `np.int`, you may wish to use e.g. `np.int64` or `np.int32` to specify the precision. If you wish to review your current use, check the release note link for additional information.\nThe aliases was originally deprecated in NumPy 1.20; for more details and guidance see the original release note at:\n    https://numpy.org/devdocs/release/1.20.0-notes.html#deprecations"
     ]
    }
   ],
   "source": [
    "import pandas as pd\n",
    "import pvlib\n",
    "from pvlib.location import Location\n",
    "from pvlib.pvsystem import PVSystem\n",
    "from pvlib.modelchain import ModelChain\n",
    "\n",
    "# Define location parameters\n",
    "latitude = 35.0  # Replace with your latitude\n",
    "longitude = -110.0  # Replace with your longitude\n",
    "tz = 'Etc/GMT+7'  # Replace with your timezone\n",
    "\n",
    "# Create a location object\n",
    "location = Location(latitude, longitude, tz=tz)\n",
    "\n",
    "# Define a specific date and time range\n",
    "date = '2023-06-21'  # Replace with desired date\n",
    "times = pd.date_range(start=f'{date} 00:00', end=f'{date} 23:59', freq='1min', tz=tz)\n",
    "\n",
    "# Get clear sky data for the location\n",
    "clear_sky = location.get_clearsky(times, model='simplified_solis')\n",
    "\n",
    "# Define module and inverter parameters (assuming identical for each module)\n",
    "module_parameters = {\n",
    "    'pdc0': 300,  # Power at standard test conditions (W)\n",
    "    'gamma_pdc': -0.004  # Temperature coefficient of power (%/°C)\n",
    "}\n",
    "inverter_parameters = {\n",
    "    'pdc0': 300,  # DC input limit of the inverter (W)\n",
    "    'pdc': 250  # Max AC output (W)\n",
    "}\n",
    "\n",
    "# Define orientations for each module\n",
    "orientations = [\n",
    "    {'tilt': 30, 'azimuth': 180},  # South-facing\n",
    "    {'tilt': 30, 'azimuth': 90},   # East-facing\n",
    "    {'tilt': 30, 'azimuth': 270},  # West-facing\n",
    "    {'tilt': 15, 'azimuth': 180},  # South-facing with lower tilt\n",
    "    # Add more orientations as needed for each of the 10 modules\n",
    "]\n",
    "\n",
    "# Initialize a list to collect the power outputs of each module\n",
    "ac_power_outputs = []\n",
    "\n",
    "# Calculate power output for each module\n",
    "for orientation in orientations:\n",
    "    # Create a PVSystem object with the specific tilt and azimuth\n",
    "    pv_system = PVSystem(\n",
    "        module_parameters=module_parameters,\n",
    "        inverter_parameters=inverter_parameters,\n",
    "        surface_tilt=orientation['tilt'],\n",
    "        surface_azimuth=orientation['azimuth']\n",
    "    )\n",
    "    \n",
    "    # Create a ModelChain for the PVSystem and run it\n",
    "    mc = ModelChain(pv_system, location)\n",
    "    mc.run_model(clear_sky)\n",
    "    \n",
    "    # Append the AC power output of this orientation to the list\n",
    "    ac_power_outputs.append(mc.ac.fillna(0))  # Fill NaNs with 0 for night hours\n",
    "\n",
    "# Sum the AC power outputs from each module to get the total system output\n",
    "total_ac_power_output = sum(ac_power_outputs)\n",
    "\n",
    "# Print and plot the total AC power output\n",
    "print(total_ac_power_output)\n",
    "total_ac_power_output.plot(title='Total PV System Power Output Curve for ' + date, ylabel='AC Power (W)')\n"
   ]
  }
 ],
 "metadata": {
  "kernelspec": {
   "display_name": "design-optimization",
   "language": "python",
   "name": "python3"
  },
  "language_info": {
   "codemirror_mode": {
    "name": "ipython",
    "version": 3
   },
   "file_extension": ".py",
   "mimetype": "text/x-python",
   "name": "python",
   "nbconvert_exporter": "python",
   "pygments_lexer": "ipython3",
   "version": "3.10.15"
  }
 },
 "nbformat": 4,
 "nbformat_minor": 2
}
